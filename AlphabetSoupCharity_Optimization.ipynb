{
  "cells": [
    {
      "cell_type": "markdown",
      "metadata": {
        "id": "view-in-github",
        "colab_type": "text"
      },
      "source": [
        "<a href=\"https://colab.research.google.com/github/MarisolCor/Challenge_21/blob/main/AlphabetSoupCharity_Optimization.ipynb\" target=\"_parent\"><img src=\"https://colab.research.google.com/assets/colab-badge.svg\" alt=\"Open In Colab\"/></a>"
      ]
    },
    {
      "cell_type": "markdown",
      "metadata": {
        "id": "20uMd_Y1--i3"
      },
      "source": [
        "## Preprocessing"
      ]
    },
    {
      "cell_type": "code",
      "execution_count": 18,
      "metadata": {
        "colab": {
          "base_uri": "https://localhost:8080/",
          "height": 452
        },
        "id": "e4ELxmGx--i4",
        "outputId": "b8284c3a-fc79-43c1-c47f-48399419800e"
      },
      "outputs": [
        {
          "output_type": "execute_result",
          "data": {
            "text/plain": [
              "        EIN                                      NAME APPLICATION_TYPE  \\\n",
              "0  10520599              BLUE KNIGHTS MOTORCYCLE CLUB              T10   \n",
              "1  10531628    AMERICAN CHESAPEAKE CLUB CHARITABLE TR               T3   \n",
              "2  10547893        ST CLOUD PROFESSIONAL FIREFIGHTERS               T5   \n",
              "3  10553066            SOUTHSIDE ATHLETIC ASSOCIATION               T3   \n",
              "4  10556103  GENETIC RESEARCH INSTITUTE OF THE DESERT               T3   \n",
              "\n",
              "        AFFILIATION CLASSIFICATION      USE_CASE  ORGANIZATION  STATUS  \\\n",
              "0       Independent          C1000    ProductDev   Association       1   \n",
              "1       Independent          C2000  Preservation  Co-operative       1   \n",
              "2  CompanySponsored          C3000    ProductDev   Association       1   \n",
              "3  CompanySponsored          C2000  Preservation         Trust       1   \n",
              "4       Independent          C1000     Heathcare         Trust       1   \n",
              "\n",
              "      INCOME_AMT SPECIAL_CONSIDERATIONS  ASK_AMT  IS_SUCCESSFUL  \n",
              "0              0                      N     5000              1  \n",
              "1         1-9999                      N   108590              1  \n",
              "2              0                      N     5000              0  \n",
              "3    10000-24999                      N     6692              1  \n",
              "4  100000-499999                      N   142590              1  "
            ],
            "text/html": [
              "\n",
              "  <div id=\"df-031dd890-52d7-4e1f-ae63-f792daacd6c8\" class=\"colab-df-container\">\n",
              "    <div>\n",
              "<style scoped>\n",
              "    .dataframe tbody tr th:only-of-type {\n",
              "        vertical-align: middle;\n",
              "    }\n",
              "\n",
              "    .dataframe tbody tr th {\n",
              "        vertical-align: top;\n",
              "    }\n",
              "\n",
              "    .dataframe thead th {\n",
              "        text-align: right;\n",
              "    }\n",
              "</style>\n",
              "<table border=\"1\" class=\"dataframe\">\n",
              "  <thead>\n",
              "    <tr style=\"text-align: right;\">\n",
              "      <th></th>\n",
              "      <th>EIN</th>\n",
              "      <th>NAME</th>\n",
              "      <th>APPLICATION_TYPE</th>\n",
              "      <th>AFFILIATION</th>\n",
              "      <th>CLASSIFICATION</th>\n",
              "      <th>USE_CASE</th>\n",
              "      <th>ORGANIZATION</th>\n",
              "      <th>STATUS</th>\n",
              "      <th>INCOME_AMT</th>\n",
              "      <th>SPECIAL_CONSIDERATIONS</th>\n",
              "      <th>ASK_AMT</th>\n",
              "      <th>IS_SUCCESSFUL</th>\n",
              "    </tr>\n",
              "  </thead>\n",
              "  <tbody>\n",
              "    <tr>\n",
              "      <th>0</th>\n",
              "      <td>10520599</td>\n",
              "      <td>BLUE KNIGHTS MOTORCYCLE CLUB</td>\n",
              "      <td>T10</td>\n",
              "      <td>Independent</td>\n",
              "      <td>C1000</td>\n",
              "      <td>ProductDev</td>\n",
              "      <td>Association</td>\n",
              "      <td>1</td>\n",
              "      <td>0</td>\n",
              "      <td>N</td>\n",
              "      <td>5000</td>\n",
              "      <td>1</td>\n",
              "    </tr>\n",
              "    <tr>\n",
              "      <th>1</th>\n",
              "      <td>10531628</td>\n",
              "      <td>AMERICAN CHESAPEAKE CLUB CHARITABLE TR</td>\n",
              "      <td>T3</td>\n",
              "      <td>Independent</td>\n",
              "      <td>C2000</td>\n",
              "      <td>Preservation</td>\n",
              "      <td>Co-operative</td>\n",
              "      <td>1</td>\n",
              "      <td>1-9999</td>\n",
              "      <td>N</td>\n",
              "      <td>108590</td>\n",
              "      <td>1</td>\n",
              "    </tr>\n",
              "    <tr>\n",
              "      <th>2</th>\n",
              "      <td>10547893</td>\n",
              "      <td>ST CLOUD PROFESSIONAL FIREFIGHTERS</td>\n",
              "      <td>T5</td>\n",
              "      <td>CompanySponsored</td>\n",
              "      <td>C3000</td>\n",
              "      <td>ProductDev</td>\n",
              "      <td>Association</td>\n",
              "      <td>1</td>\n",
              "      <td>0</td>\n",
              "      <td>N</td>\n",
              "      <td>5000</td>\n",
              "      <td>0</td>\n",
              "    </tr>\n",
              "    <tr>\n",
              "      <th>3</th>\n",
              "      <td>10553066</td>\n",
              "      <td>SOUTHSIDE ATHLETIC ASSOCIATION</td>\n",
              "      <td>T3</td>\n",
              "      <td>CompanySponsored</td>\n",
              "      <td>C2000</td>\n",
              "      <td>Preservation</td>\n",
              "      <td>Trust</td>\n",
              "      <td>1</td>\n",
              "      <td>10000-24999</td>\n",
              "      <td>N</td>\n",
              "      <td>6692</td>\n",
              "      <td>1</td>\n",
              "    </tr>\n",
              "    <tr>\n",
              "      <th>4</th>\n",
              "      <td>10556103</td>\n",
              "      <td>GENETIC RESEARCH INSTITUTE OF THE DESERT</td>\n",
              "      <td>T3</td>\n",
              "      <td>Independent</td>\n",
              "      <td>C1000</td>\n",
              "      <td>Heathcare</td>\n",
              "      <td>Trust</td>\n",
              "      <td>1</td>\n",
              "      <td>100000-499999</td>\n",
              "      <td>N</td>\n",
              "      <td>142590</td>\n",
              "      <td>1</td>\n",
              "    </tr>\n",
              "  </tbody>\n",
              "</table>\n",
              "</div>\n",
              "    <div class=\"colab-df-buttons\">\n",
              "\n",
              "  <div class=\"colab-df-container\">\n",
              "    <button class=\"colab-df-convert\" onclick=\"convertToInteractive('df-031dd890-52d7-4e1f-ae63-f792daacd6c8')\"\n",
              "            title=\"Convert this dataframe to an interactive table.\"\n",
              "            style=\"display:none;\">\n",
              "\n",
              "  <svg xmlns=\"http://www.w3.org/2000/svg\" height=\"24px\" viewBox=\"0 -960 960 960\">\n",
              "    <path d=\"M120-120v-720h720v720H120Zm60-500h600v-160H180v160Zm220 220h160v-160H400v160Zm0 220h160v-160H400v160ZM180-400h160v-160H180v160Zm440 0h160v-160H620v160ZM180-180h160v-160H180v160Zm440 0h160v-160H620v160Z\"/>\n",
              "  </svg>\n",
              "    </button>\n",
              "\n",
              "  <style>\n",
              "    .colab-df-container {\n",
              "      display:flex;\n",
              "      gap: 12px;\n",
              "    }\n",
              "\n",
              "    .colab-df-convert {\n",
              "      background-color: #E8F0FE;\n",
              "      border: none;\n",
              "      border-radius: 50%;\n",
              "      cursor: pointer;\n",
              "      display: none;\n",
              "      fill: #1967D2;\n",
              "      height: 32px;\n",
              "      padding: 0 0 0 0;\n",
              "      width: 32px;\n",
              "    }\n",
              "\n",
              "    .colab-df-convert:hover {\n",
              "      background-color: #E2EBFA;\n",
              "      box-shadow: 0px 1px 2px rgba(60, 64, 67, 0.3), 0px 1px 3px 1px rgba(60, 64, 67, 0.15);\n",
              "      fill: #174EA6;\n",
              "    }\n",
              "\n",
              "    .colab-df-buttons div {\n",
              "      margin-bottom: 4px;\n",
              "    }\n",
              "\n",
              "    [theme=dark] .colab-df-convert {\n",
              "      background-color: #3B4455;\n",
              "      fill: #D2E3FC;\n",
              "    }\n",
              "\n",
              "    [theme=dark] .colab-df-convert:hover {\n",
              "      background-color: #434B5C;\n",
              "      box-shadow: 0px 1px 3px 1px rgba(0, 0, 0, 0.15);\n",
              "      filter: drop-shadow(0px 1px 2px rgba(0, 0, 0, 0.3));\n",
              "      fill: #FFFFFF;\n",
              "    }\n",
              "  </style>\n",
              "\n",
              "    <script>\n",
              "      const buttonEl =\n",
              "        document.querySelector('#df-031dd890-52d7-4e1f-ae63-f792daacd6c8 button.colab-df-convert');\n",
              "      buttonEl.style.display =\n",
              "        google.colab.kernel.accessAllowed ? 'block' : 'none';\n",
              "\n",
              "      async function convertToInteractive(key) {\n",
              "        const element = document.querySelector('#df-031dd890-52d7-4e1f-ae63-f792daacd6c8');\n",
              "        const dataTable =\n",
              "          await google.colab.kernel.invokeFunction('convertToInteractive',\n",
              "                                                    [key], {});\n",
              "        if (!dataTable) return;\n",
              "\n",
              "        const docLinkHtml = 'Like what you see? Visit the ' +\n",
              "          '<a target=\"_blank\" href=https://colab.research.google.com/notebooks/data_table.ipynb>data table notebook</a>'\n",
              "          + ' to learn more about interactive tables.';\n",
              "        element.innerHTML = '';\n",
              "        dataTable['output_type'] = 'display_data';\n",
              "        await google.colab.output.renderOutput(dataTable, element);\n",
              "        const docLink = document.createElement('div');\n",
              "        docLink.innerHTML = docLinkHtml;\n",
              "        element.appendChild(docLink);\n",
              "      }\n",
              "    </script>\n",
              "  </div>\n",
              "\n",
              "\n",
              "<div id=\"df-d210ce47-b6b0-452a-835c-bb4c5d7b140d\">\n",
              "  <button class=\"colab-df-quickchart\" onclick=\"quickchart('df-d210ce47-b6b0-452a-835c-bb4c5d7b140d')\"\n",
              "            title=\"Suggest charts\"\n",
              "            style=\"display:none;\">\n",
              "\n",
              "<svg xmlns=\"http://www.w3.org/2000/svg\" height=\"24px\"viewBox=\"0 0 24 24\"\n",
              "     width=\"24px\">\n",
              "    <g>\n",
              "        <path d=\"M19 3H5c-1.1 0-2 .9-2 2v14c0 1.1.9 2 2 2h14c1.1 0 2-.9 2-2V5c0-1.1-.9-2-2-2zM9 17H7v-7h2v7zm4 0h-2V7h2v10zm4 0h-2v-4h2v4z\"/>\n",
              "    </g>\n",
              "</svg>\n",
              "  </button>\n",
              "\n",
              "<style>\n",
              "  .colab-df-quickchart {\n",
              "      --bg-color: #E8F0FE;\n",
              "      --fill-color: #1967D2;\n",
              "      --hover-bg-color: #E2EBFA;\n",
              "      --hover-fill-color: #174EA6;\n",
              "      --disabled-fill-color: #AAA;\n",
              "      --disabled-bg-color: #DDD;\n",
              "  }\n",
              "\n",
              "  [theme=dark] .colab-df-quickchart {\n",
              "      --bg-color: #3B4455;\n",
              "      --fill-color: #D2E3FC;\n",
              "      --hover-bg-color: #434B5C;\n",
              "      --hover-fill-color: #FFFFFF;\n",
              "      --disabled-bg-color: #3B4455;\n",
              "      --disabled-fill-color: #666;\n",
              "  }\n",
              "\n",
              "  .colab-df-quickchart {\n",
              "    background-color: var(--bg-color);\n",
              "    border: none;\n",
              "    border-radius: 50%;\n",
              "    cursor: pointer;\n",
              "    display: none;\n",
              "    fill: var(--fill-color);\n",
              "    height: 32px;\n",
              "    padding: 0;\n",
              "    width: 32px;\n",
              "  }\n",
              "\n",
              "  .colab-df-quickchart:hover {\n",
              "    background-color: var(--hover-bg-color);\n",
              "    box-shadow: 0 1px 2px rgba(60, 64, 67, 0.3), 0 1px 3px 1px rgba(60, 64, 67, 0.15);\n",
              "    fill: var(--button-hover-fill-color);\n",
              "  }\n",
              "\n",
              "  .colab-df-quickchart-complete:disabled,\n",
              "  .colab-df-quickchart-complete:disabled:hover {\n",
              "    background-color: var(--disabled-bg-color);\n",
              "    fill: var(--disabled-fill-color);\n",
              "    box-shadow: none;\n",
              "  }\n",
              "\n",
              "  .colab-df-spinner {\n",
              "    border: 2px solid var(--fill-color);\n",
              "    border-color: transparent;\n",
              "    border-bottom-color: var(--fill-color);\n",
              "    animation:\n",
              "      spin 1s steps(1) infinite;\n",
              "  }\n",
              "\n",
              "  @keyframes spin {\n",
              "    0% {\n",
              "      border-color: transparent;\n",
              "      border-bottom-color: var(--fill-color);\n",
              "      border-left-color: var(--fill-color);\n",
              "    }\n",
              "    20% {\n",
              "      border-color: transparent;\n",
              "      border-left-color: var(--fill-color);\n",
              "      border-top-color: var(--fill-color);\n",
              "    }\n",
              "    30% {\n",
              "      border-color: transparent;\n",
              "      border-left-color: var(--fill-color);\n",
              "      border-top-color: var(--fill-color);\n",
              "      border-right-color: var(--fill-color);\n",
              "    }\n",
              "    40% {\n",
              "      border-color: transparent;\n",
              "      border-right-color: var(--fill-color);\n",
              "      border-top-color: var(--fill-color);\n",
              "    }\n",
              "    60% {\n",
              "      border-color: transparent;\n",
              "      border-right-color: var(--fill-color);\n",
              "    }\n",
              "    80% {\n",
              "      border-color: transparent;\n",
              "      border-right-color: var(--fill-color);\n",
              "      border-bottom-color: var(--fill-color);\n",
              "    }\n",
              "    90% {\n",
              "      border-color: transparent;\n",
              "      border-bottom-color: var(--fill-color);\n",
              "    }\n",
              "  }\n",
              "</style>\n",
              "\n",
              "  <script>\n",
              "    async function quickchart(key) {\n",
              "      const quickchartButtonEl =\n",
              "        document.querySelector('#' + key + ' button');\n",
              "      quickchartButtonEl.disabled = true;  // To prevent multiple clicks.\n",
              "      quickchartButtonEl.classList.add('colab-df-spinner');\n",
              "      try {\n",
              "        const charts = await google.colab.kernel.invokeFunction(\n",
              "            'suggestCharts', [key], {});\n",
              "      } catch (error) {\n",
              "        console.error('Error during call to suggestCharts:', error);\n",
              "      }\n",
              "      quickchartButtonEl.classList.remove('colab-df-spinner');\n",
              "      quickchartButtonEl.classList.add('colab-df-quickchart-complete');\n",
              "    }\n",
              "    (() => {\n",
              "      let quickchartButtonEl =\n",
              "        document.querySelector('#df-d210ce47-b6b0-452a-835c-bb4c5d7b140d button');\n",
              "      quickchartButtonEl.style.display =\n",
              "        google.colab.kernel.accessAllowed ? 'block' : 'none';\n",
              "    })();\n",
              "  </script>\n",
              "</div>\n",
              "\n",
              "    </div>\n",
              "  </div>\n"
            ],
            "application/vnd.google.colaboratory.intrinsic+json": {
              "type": "dataframe",
              "variable_name": "application_df",
              "summary": "{\n  \"name\": \"application_df\",\n  \"rows\": 34299,\n  \"fields\": [\n    {\n      \"column\": \"EIN\",\n      \"properties\": {\n        \"dtype\": \"number\",\n        \"std\": 245147183,\n        \"min\": 10520599,\n        \"max\": 996086871,\n        \"num_unique_values\": 34299,\n        \"samples\": [\n          271598055,\n          900109768,\n          352562499\n        ],\n        \"semantic_type\": \"\",\n        \"description\": \"\"\n      }\n    },\n    {\n      \"column\": \"NAME\",\n      \"properties\": {\n        \"dtype\": \"string\",\n        \"num_unique_values\": 19568,\n        \"samples\": [\n          \"LOCAL 12 USW GOODYEAR INSTITUTE FORCAREER DEVELOPMENT\",\n          \"INTERNATION ASSOCIATION OF ELECTRICAL INSPECTORS\",\n          \"BRICKLAYERS & ALLIED CRAFTWORKERS LOCAL 13 VACATION FUND\"\n        ],\n        \"semantic_type\": \"\",\n        \"description\": \"\"\n      }\n    },\n    {\n      \"column\": \"APPLICATION_TYPE\",\n      \"properties\": {\n        \"dtype\": \"category\",\n        \"num_unique_values\": 17,\n        \"samples\": [\n          \"T10\",\n          \"T3\",\n          \"T6\"\n        ],\n        \"semantic_type\": \"\",\n        \"description\": \"\"\n      }\n    },\n    {\n      \"column\": \"AFFILIATION\",\n      \"properties\": {\n        \"dtype\": \"category\",\n        \"num_unique_values\": 6,\n        \"samples\": [\n          \"Independent\",\n          \"CompanySponsored\",\n          \"Other\"\n        ],\n        \"semantic_type\": \"\",\n        \"description\": \"\"\n      }\n    },\n    {\n      \"column\": \"CLASSIFICATION\",\n      \"properties\": {\n        \"dtype\": \"category\",\n        \"num_unique_values\": 71,\n        \"samples\": [\n          \"C1500\",\n          \"C1000\",\n          \"C1570\"\n        ],\n        \"semantic_type\": \"\",\n        \"description\": \"\"\n      }\n    },\n    {\n      \"column\": \"USE_CASE\",\n      \"properties\": {\n        \"dtype\": \"category\",\n        \"num_unique_values\": 5,\n        \"samples\": [\n          \"Preservation\",\n          \"Other\",\n          \"Heathcare\"\n        ],\n        \"semantic_type\": \"\",\n        \"description\": \"\"\n      }\n    },\n    {\n      \"column\": \"ORGANIZATION\",\n      \"properties\": {\n        \"dtype\": \"category\",\n        \"num_unique_values\": 4,\n        \"samples\": [\n          \"Co-operative\",\n          \"Corporation\",\n          \"Association\"\n        ],\n        \"semantic_type\": \"\",\n        \"description\": \"\"\n      }\n    },\n    {\n      \"column\": \"STATUS\",\n      \"properties\": {\n        \"dtype\": \"number\",\n        \"std\": 0,\n        \"min\": 0,\n        \"max\": 1,\n        \"num_unique_values\": 2,\n        \"samples\": [\n          0,\n          1\n        ],\n        \"semantic_type\": \"\",\n        \"description\": \"\"\n      }\n    },\n    {\n      \"column\": \"INCOME_AMT\",\n      \"properties\": {\n        \"dtype\": \"category\",\n        \"num_unique_values\": 9,\n        \"samples\": [\n          \"1M-5M\",\n          \"1-9999\"\n        ],\n        \"semantic_type\": \"\",\n        \"description\": \"\"\n      }\n    },\n    {\n      \"column\": \"SPECIAL_CONSIDERATIONS\",\n      \"properties\": {\n        \"dtype\": \"category\",\n        \"num_unique_values\": 2,\n        \"samples\": [\n          \"Y\",\n          \"N\"\n        ],\n        \"semantic_type\": \"\",\n        \"description\": \"\"\n      }\n    },\n    {\n      \"column\": \"ASK_AMT\",\n      \"properties\": {\n        \"dtype\": \"number\",\n        \"std\": 87130452,\n        \"min\": 5000,\n        \"max\": 8597806340,\n        \"num_unique_values\": 8747,\n        \"samples\": [\n          1328927,\n          42942\n        ],\n        \"semantic_type\": \"\",\n        \"description\": \"\"\n      }\n    },\n    {\n      \"column\": \"IS_SUCCESSFUL\",\n      \"properties\": {\n        \"dtype\": \"number\",\n        \"std\": 0,\n        \"min\": 0,\n        \"max\": 1,\n        \"num_unique_values\": 2,\n        \"samples\": [\n          0,\n          1\n        ],\n        \"semantic_type\": \"\",\n        \"description\": \"\"\n      }\n    }\n  ]\n}"
            }
          },
          "metadata": {},
          "execution_count": 18
        }
      ],
      "source": [
        "# Import our dependencies\n",
        "from sklearn.model_selection import train_test_split\n",
        "from sklearn.preprocessing import StandardScaler\n",
        "import pandas as pd\n",
        "import tensorflow as tf\n",
        "\n",
        "#  Import and read the charity_data.csv.\n",
        "import pandas as pd\n",
        "application_df = pd.read_csv(\"https://static.bc-edx.com/data/dl-1-2/m21/lms/starter/charity_data.csv\")\n",
        "application_df.head()"
      ]
    },
    {
      "cell_type": "code",
      "execution_count": 19,
      "metadata": {
        "id": "Gu7zcFZZ--i5"
      },
      "outputs": [],
      "source": [
        "# Drop the non-beneficial ID columns, 'EIN' and 'NAME'.\n",
        "application_df.drop(columns=['EIN','SPECIAL_CONSIDERATIONS'],inplace=True)"
      ]
    },
    {
      "cell_type": "code",
      "execution_count": 20,
      "metadata": {
        "colab": {
          "base_uri": "https://localhost:8080/"
        },
        "id": "z3GvY9dM--i5",
        "outputId": "d04fc2be-a6f3-4686-8bc3-cb2433cd4bd7"
      },
      "outputs": [
        {
          "output_type": "execute_result",
          "data": {
            "text/plain": [
              "NAME                19568\n",
              "APPLICATION_TYPE       17\n",
              "AFFILIATION             6\n",
              "CLASSIFICATION         71\n",
              "USE_CASE                5\n",
              "ORGANIZATION            4\n",
              "STATUS                  2\n",
              "INCOME_AMT              9\n",
              "ASK_AMT              8747\n",
              "IS_SUCCESSFUL           2\n",
              "dtype: int64"
            ]
          },
          "metadata": {},
          "execution_count": 20
        }
      ],
      "source": [
        "# Determine the number of unique values in each column.\n",
        "application_df.nunique()\n"
      ]
    },
    {
      "cell_type": "code",
      "source": [
        "namecnt = application_df['NAME'].value_counts()\n",
        "names_replace = list(namecnt[namecnt<5].index)\n",
        "\n",
        "# Replace in dataframe\n",
        "for name in names_replace:\n",
        "    application_df['NAME'] = application_df['NAME'].replace(name,\"Other\")\n",
        "\n",
        "# Check to make sure binning was successful\n",
        "application_df['NAME'].value_counts()"
      ],
      "metadata": {
        "colab": {
          "base_uri": "https://localhost:8080/"
        },
        "id": "qBZhXjGgyCBw",
        "outputId": "e0c1b2ac-d325-46d6-d7de-77d094400eb6"
      },
      "execution_count": 21,
      "outputs": [
        {
          "output_type": "execute_result",
          "data": {
            "text/plain": [
              "Other                                                                19803\n",
              "PARENT BOOSTER USA INC                                                1260\n",
              "TOPS CLUB INC                                                          765\n",
              "UNITED STATES BOWLING CONGRESS INC                                     700\n",
              "WASHINGTON STATE UNIVERSITY                                            492\n",
              "                                                                     ...  \n",
              "GUILDS OF THE SANTA FE OPERA INC                                         5\n",
              "FAMILY MOTOR COACH ASSOCIATION                                           5\n",
              "JAMESTOWN SOCIETY                                                        5\n",
              "MOST WORSHIPFUL PRINCE HALL GRAND LODGE OF FREE & ACCEPTED MASONS        5\n",
              "PTA HAWAII CONGRESS                                                      5\n",
              "Name: NAME, Length: 403, dtype: int64"
            ]
          },
          "metadata": {},
          "execution_count": 21
        }
      ]
    },
    {
      "cell_type": "code",
      "execution_count": 22,
      "metadata": {
        "colab": {
          "base_uri": "https://localhost:8080/"
        },
        "id": "N0GOrMOB--i5",
        "outputId": "ecca1729-2c0e-41b9-97a8-8ed0af43b721"
      },
      "outputs": [
        {
          "output_type": "execute_result",
          "data": {
            "text/plain": [
              "T3     27037\n",
              "T4      1542\n",
              "T6      1216\n",
              "T5      1173\n",
              "T19     1065\n",
              "T8       737\n",
              "T7       725\n",
              "T10      528\n",
              "T9       156\n",
              "T13       66\n",
              "T12       27\n",
              "T2        16\n",
              "T25        3\n",
              "T14        3\n",
              "T29        2\n",
              "T15        2\n",
              "T17        1\n",
              "Name: APPLICATION_TYPE, dtype: int64"
            ]
          },
          "metadata": {},
          "execution_count": 22
        }
      ],
      "source": [
        "# Look at APPLICATION_TYPE value counts for binning\n",
        "app_types_df = application_df['APPLICATION_TYPE'].value_counts()\n",
        "#.sort_values(1, ascending=False)\n",
        "app_types_df"
      ]
    },
    {
      "cell_type": "code",
      "execution_count": 23,
      "metadata": {
        "colab": {
          "base_uri": "https://localhost:8080/"
        },
        "id": "_d9PhPIA--i5",
        "outputId": "3db904c6-f6c4-4e50-f087-a075cdf64d73"
      },
      "outputs": [
        {
          "output_type": "execute_result",
          "data": {
            "text/plain": [
              "T3       27037\n",
              "T4        1542\n",
              "T6        1216\n",
              "T5        1173\n",
              "T19       1065\n",
              "T8         737\n",
              "T7         725\n",
              "T10        528\n",
              "Other      276\n",
              "Name: APPLICATION_TYPE, dtype: int64"
            ]
          },
          "metadata": {},
          "execution_count": 23
        }
      ],
      "source": [
        "# Choose a cutoff value and create a list of application types to be replaced\n",
        "# use the variable name `application_types_to_replace`\n",
        "\n",
        "application_types_to_replace=list(app_types_df[app_types_df<500].index)\n",
        "application_types_to_replace\n",
        "\n",
        "# Replace in dataframe\n",
        "for app in application_types_to_replace:\n",
        "    application_df['APPLICATION_TYPE'] = application_df['APPLICATION_TYPE'].replace(app,\"Other\")\n",
        "\n",
        "# Check to make sure binning was successful\n",
        "application_df['APPLICATION_TYPE'].value_counts()"
      ]
    },
    {
      "cell_type": "code",
      "execution_count": 24,
      "metadata": {
        "colab": {
          "base_uri": "https://localhost:8080/"
        },
        "id": "Ky5lwiXS--i6",
        "outputId": "9c5de3aa-c404-43d5-9017-a2e5b49694f5"
      },
      "outputs": [
        {
          "output_type": "execute_result",
          "data": {
            "text/plain": [
              "C1000    17326\n",
              "C2000     6074\n",
              "C1200     4837\n",
              "C3000     1918\n",
              "C2100     1883\n",
              "         ...  \n",
              "C4120        1\n",
              "C8210        1\n",
              "C2561        1\n",
              "C4500        1\n",
              "C2150        1\n",
              "Name: CLASSIFICATION, Length: 71, dtype: int64"
            ]
          },
          "metadata": {},
          "execution_count": 24
        }
      ],
      "source": [
        "# Look at CLASSIFICATION value counts for binning\n",
        "classification_cnts=application_df['CLASSIFICATION'].value_counts()\n",
        "classification_cnts"
      ]
    },
    {
      "cell_type": "code",
      "execution_count": 25,
      "metadata": {
        "colab": {
          "base_uri": "https://localhost:8080/"
        },
        "id": "I0bJQA3y--i6",
        "outputId": "44db976a-a427-4388-f319-46dd118d86f5"
      },
      "outputs": [
        {
          "output_type": "execute_result",
          "data": {
            "text/plain": [
              "C1000    17326\n",
              "C2000     6074\n",
              "C1200     4837\n",
              "C3000     1918\n",
              "C2100     1883\n",
              "C7000      777\n",
              "C1700      287\n",
              "C4000      194\n",
              "C5000      116\n",
              "C1270      114\n",
              "C2700      104\n",
              "C2800       95\n",
              "C7100       75\n",
              "C1300       58\n",
              "C1280       50\n",
              "C1230       36\n",
              "C1400       34\n",
              "C7200       32\n",
              "C2300       32\n",
              "C1240       30\n",
              "C8000       20\n",
              "C7120       18\n",
              "C1500       16\n",
              "C1800       15\n",
              "C6000       15\n",
              "C1250       14\n",
              "C8200       11\n",
              "C1238       10\n",
              "C1278       10\n",
              "C1235        9\n",
              "C1237        9\n",
              "C7210        7\n",
              "C2400        6\n",
              "C1720        6\n",
              "C4100        6\n",
              "C1257        5\n",
              "C1600        5\n",
              "C1260        3\n",
              "C2710        3\n",
              "C0           3\n",
              "C3200        2\n",
              "C1234        2\n",
              "C1246        2\n",
              "C1267        2\n",
              "C1256        2\n",
              "Name: CLASSIFICATION, dtype: int64"
            ]
          },
          "metadata": {},
          "execution_count": 25
        }
      ],
      "source": [
        "# You may find it helpful to look at CLASSIFICATION value counts >1\n",
        "classification_df_gt1 = classification_cnts[classification_cnts>1]\n",
        "classification_df_gt1"
      ]
    },
    {
      "cell_type": "code",
      "execution_count": 26,
      "metadata": {
        "colab": {
          "base_uri": "https://localhost:8080/"
        },
        "id": "3mXs7VgB--i6",
        "outputId": "db94fa67-d23e-45ee-b2cc-b4a9711d8be8"
      },
      "outputs": [
        {
          "output_type": "execute_result",
          "data": {
            "text/plain": [
              "C1000    17326\n",
              "C2000     6074\n",
              "C1200     4837\n",
              "C3000     1918\n",
              "C2100     1883\n",
              "Other     1484\n",
              "C7000      777\n",
              "Name: CLASSIFICATION, dtype: int64"
            ]
          },
          "metadata": {},
          "execution_count": 26
        }
      ],
      "source": [
        "# Choose a cutoff value and create a list of classifications to be replaced\n",
        "# use the variable name `classifications_to_replace`\n",
        "\n",
        "classifications_to_replace=list(classification_cnts[classification_cnts<500].index)\n",
        "# Replace in dataframe\n",
        "for cls in classifications_to_replace:\n",
        "    application_df['CLASSIFICATION'] = application_df['CLASSIFICATION'].replace(cls,\"Other\")\n",
        "\n",
        "# Check to make sure binning was successful\n",
        "application_df['CLASSIFICATION'].value_counts()"
      ]
    },
    {
      "cell_type": "code",
      "execution_count": 27,
      "metadata": {
        "id": "DHNSGzg9--i6"
      },
      "outputs": [],
      "source": [
        "# Convert categorical data to numeric with `pd.get_dummies`\n",
        "application_df_transformed = pd.get_dummies(application_df,dtype=float)\n"
      ]
    },
    {
      "cell_type": "code",
      "execution_count": 28,
      "metadata": {
        "id": "nN-my0kQ--i6"
      },
      "outputs": [],
      "source": [
        "# Split our preprocessed data into our features and target arrays\n",
        "\n",
        "target=application_df_transformed[\"IS_SUCCESSFUL\"].values\n",
        "data = application_df_transformed.drop(\"IS_SUCCESSFUL\", axis=1).values\n",
        "# Split the preprocessed data into a training and testing dataset\n",
        "\n",
        "from sklearn.model_selection import train_test_split\n",
        "X_train, X_test, y_train, y_test = train_test_split(data, target, random_state=44)"
      ]
    },
    {
      "cell_type": "code",
      "execution_count": 29,
      "metadata": {
        "id": "CABHN2NV--i6"
      },
      "outputs": [],
      "source": [
        "# Create a StandardScaler instances\n",
        "scaler = StandardScaler()\n",
        "\n",
        "# Fit the StandardScaler\n",
        "X_scaler = scaler.fit(X_train)\n",
        "\n",
        "# Scale the data\n",
        "X_train_scaled = X_scaler.transform(X_train)\n",
        "X_test_scaled = X_scaler.transform(X_test)"
      ]
    },
    {
      "cell_type": "markdown",
      "metadata": {
        "id": "MdcuV_Xq--i6"
      },
      "source": [
        "## Compile, Train and Evaluate the Model"
      ]
    },
    {
      "cell_type": "code",
      "execution_count": 30,
      "metadata": {
        "colab": {
          "base_uri": "https://localhost:8080/"
        },
        "id": "deUytGtJ--i7",
        "outputId": "3b95c0cf-d324-432f-805d-e75a6bb92c74"
      },
      "outputs": [
        {
          "output_type": "stream",
          "name": "stdout",
          "text": [
            "Model: \"sequential_1\"\n",
            "_________________________________________________________________\n",
            " Layer (type)                Output Shape              Param #   \n",
            "=================================================================\n",
            " dense_3 (Dense)             (None, 7)                 3122      \n",
            "                                                                 \n",
            " dense_4 (Dense)             (None, 14)                112       \n",
            "                                                                 \n",
            " dense_5 (Dense)             (None, 1)                 15        \n",
            "                                                                 \n",
            "=================================================================\n",
            "Total params: 3249 (12.69 KB)\n",
            "Trainable params: 3249 (12.69 KB)\n",
            "Non-trainable params: 0 (0.00 Byte)\n",
            "_________________________________________________________________\n"
          ]
        }
      ],
      "source": [
        "# Define the model - deep neural net, i.e., the number of input features and hidden nodes for each layer.\n",
        "\n",
        "nn = tf.keras.models.Sequential()\n",
        "\n",
        "# First hidden layer\n",
        "\n",
        "nn.add(tf.keras.layers.Dense(units=7, activation=\"relu\", input_dim=445))\n",
        "\n",
        "# Second hidden layer\n",
        "\n",
        "nn.add(tf.keras.layers.Dense(units=14, activation=\"relu\"))\n",
        "\n",
        "# Output layer\n",
        "\n",
        "nn.add(tf.keras.layers.Dense(units=1, activation=\"sigmoid\"))\n",
        "\n",
        "# Check the structure of the model\n",
        "nn.summary()"
      ]
    },
    {
      "cell_type": "code",
      "execution_count": 31,
      "metadata": {
        "id": "ljARMkAl--i7"
      },
      "outputs": [],
      "source": [
        "# Compile the model\n",
        "\n",
        "nn.compile(loss=\"binary_crossentropy\", optimizer=\"adam\", metrics=[\"accuracy\"])\n"
      ]
    },
    {
      "cell_type": "code",
      "execution_count": 32,
      "metadata": {
        "colab": {
          "base_uri": "https://localhost:8080/"
        },
        "id": "eKs83XCh--i7",
        "outputId": "7d34baac-ed67-474d-95cd-4ff627d7c30c"
      },
      "outputs": [
        {
          "output_type": "stream",
          "name": "stdout",
          "text": [
            "Epoch 1/80\n",
            "804/804 [==============================] - 2s 2ms/step - loss: 0.5342 - accuracy: 0.7425\n",
            "Epoch 2/80\n",
            "804/804 [==============================] - 1s 2ms/step - loss: 0.4458 - accuracy: 0.7856\n",
            "Epoch 3/80\n",
            "804/804 [==============================] - 1s 2ms/step - loss: 0.4351 - accuracy: 0.7898\n",
            "Epoch 4/80\n",
            "804/804 [==============================] - 2s 2ms/step - loss: 0.4315 - accuracy: 0.7904\n",
            "Epoch 5/80\n",
            "804/804 [==============================] - 2s 3ms/step - loss: 0.4304 - accuracy: 0.7893\n",
            "Epoch 6/80\n",
            "804/804 [==============================] - 1s 2ms/step - loss: 0.4288 - accuracy: 0.7927\n",
            "Epoch 7/80\n",
            "804/804 [==============================] - 1s 2ms/step - loss: 0.4279 - accuracy: 0.7949\n",
            "Epoch 8/80\n",
            "804/804 [==============================] - 1s 2ms/step - loss: 0.4271 - accuracy: 0.7950\n",
            "Epoch 9/80\n",
            "804/804 [==============================] - 1s 2ms/step - loss: 0.4265 - accuracy: 0.7955\n",
            "Epoch 10/80\n",
            "804/804 [==============================] - 1s 2ms/step - loss: 0.4262 - accuracy: 0.7954\n",
            "Epoch 11/80\n",
            "804/804 [==============================] - 1s 2ms/step - loss: 0.4256 - accuracy: 0.7962\n",
            "Epoch 12/80\n",
            "804/804 [==============================] - 2s 2ms/step - loss: 0.4251 - accuracy: 0.7968\n",
            "Epoch 13/80\n",
            "804/804 [==============================] - 2s 3ms/step - loss: 0.4245 - accuracy: 0.7967\n",
            "Epoch 14/80\n",
            "804/804 [==============================] - 1s 2ms/step - loss: 0.4242 - accuracy: 0.7963\n",
            "Epoch 15/80\n",
            "804/804 [==============================] - 1s 2ms/step - loss: 0.4235 - accuracy: 0.7970\n",
            "Epoch 16/80\n",
            "804/804 [==============================] - 1s 2ms/step - loss: 0.4236 - accuracy: 0.7963\n",
            "Epoch 17/80\n",
            "804/804 [==============================] - 1s 2ms/step - loss: 0.4232 - accuracy: 0.7985\n",
            "Epoch 18/80\n",
            "804/804 [==============================] - 1s 2ms/step - loss: 0.4228 - accuracy: 0.7989\n",
            "Epoch 19/80\n",
            "804/804 [==============================] - 2s 2ms/step - loss: 0.4222 - accuracy: 0.7994\n",
            "Epoch 20/80\n",
            "804/804 [==============================] - 2s 2ms/step - loss: 0.4219 - accuracy: 0.8004\n",
            "Epoch 21/80\n",
            "804/804 [==============================] - 2s 3ms/step - loss: 0.4218 - accuracy: 0.8007\n",
            "Epoch 22/80\n",
            "804/804 [==============================] - 1s 2ms/step - loss: 0.4208 - accuracy: 0.8010\n",
            "Epoch 23/80\n",
            "804/804 [==============================] - 1s 2ms/step - loss: 0.4204 - accuracy: 0.8014\n",
            "Epoch 24/80\n",
            "804/804 [==============================] - 1s 2ms/step - loss: 0.4204 - accuracy: 0.8005\n",
            "Epoch 25/80\n",
            "804/804 [==============================] - 1s 2ms/step - loss: 0.4199 - accuracy: 0.8003\n",
            "Epoch 26/80\n",
            "804/804 [==============================] - 1s 2ms/step - loss: 0.4196 - accuracy: 0.8009\n",
            "Epoch 27/80\n",
            "804/804 [==============================] - 1s 2ms/step - loss: 0.4193 - accuracy: 0.8019\n",
            "Epoch 28/80\n",
            "804/804 [==============================] - 2s 2ms/step - loss: 0.4187 - accuracy: 0.8023\n",
            "Epoch 29/80\n",
            "804/804 [==============================] - 2s 3ms/step - loss: 0.4183 - accuracy: 0.8014\n",
            "Epoch 30/80\n",
            "804/804 [==============================] - 1s 2ms/step - loss: 0.4182 - accuracy: 0.8019\n",
            "Epoch 31/80\n",
            "804/804 [==============================] - 1s 2ms/step - loss: 0.4179 - accuracy: 0.8026\n",
            "Epoch 32/80\n",
            "804/804 [==============================] - 1s 2ms/step - loss: 0.4174 - accuracy: 0.8031\n",
            "Epoch 33/80\n",
            "804/804 [==============================] - 1s 2ms/step - loss: 0.4173 - accuracy: 0.8022\n",
            "Epoch 34/80\n",
            "804/804 [==============================] - 1s 2ms/step - loss: 0.4170 - accuracy: 0.8027\n",
            "Epoch 35/80\n",
            "804/804 [==============================] - 1s 2ms/step - loss: 0.4170 - accuracy: 0.8034\n",
            "Epoch 36/80\n",
            "804/804 [==============================] - 2s 2ms/step - loss: 0.4164 - accuracy: 0.8028\n",
            "Epoch 37/80\n",
            "804/804 [==============================] - 2s 3ms/step - loss: 0.4161 - accuracy: 0.8034\n",
            "Epoch 38/80\n",
            "804/804 [==============================] - 2s 2ms/step - loss: 0.4159 - accuracy: 0.8038\n",
            "Epoch 39/80\n",
            "804/804 [==============================] - 2s 3ms/step - loss: 0.4159 - accuracy: 0.8031\n",
            "Epoch 40/80\n",
            "804/804 [==============================] - 1s 2ms/step - loss: 0.4158 - accuracy: 0.8042\n",
            "Epoch 41/80\n",
            "804/804 [==============================] - 1s 2ms/step - loss: 0.4156 - accuracy: 0.8027\n",
            "Epoch 42/80\n",
            "804/804 [==============================] - 1s 2ms/step - loss: 0.4152 - accuracy: 0.8046\n",
            "Epoch 43/80\n",
            "804/804 [==============================] - 1s 2ms/step - loss: 0.4149 - accuracy: 0.8038\n",
            "Epoch 44/80\n",
            "804/804 [==============================] - 2s 3ms/step - loss: 0.4148 - accuracy: 0.8047\n",
            "Epoch 45/80\n",
            "804/804 [==============================] - 2s 2ms/step - loss: 0.4147 - accuracy: 0.8043\n",
            "Epoch 46/80\n",
            "804/804 [==============================] - 1s 2ms/step - loss: 0.4143 - accuracy: 0.8038\n",
            "Epoch 47/80\n",
            "804/804 [==============================] - 1s 2ms/step - loss: 0.4137 - accuracy: 0.8046\n",
            "Epoch 48/80\n",
            "804/804 [==============================] - 1s 2ms/step - loss: 0.4141 - accuracy: 0.8046\n",
            "Epoch 49/80\n",
            "804/804 [==============================] - 2s 2ms/step - loss: 0.4135 - accuracy: 0.8054\n",
            "Epoch 50/80\n",
            "804/804 [==============================] - 1s 2ms/step - loss: 0.4136 - accuracy: 0.8039\n",
            "Epoch 51/80\n",
            "804/804 [==============================] - 1s 2ms/step - loss: 0.4130 - accuracy: 0.8052\n",
            "Epoch 52/80\n",
            "804/804 [==============================] - 2s 3ms/step - loss: 0.4129 - accuracy: 0.8049\n",
            "Epoch 53/80\n",
            "804/804 [==============================] - 2s 2ms/step - loss: 0.4129 - accuracy: 0.8046\n",
            "Epoch 54/80\n",
            "804/804 [==============================] - 2s 2ms/step - loss: 0.4125 - accuracy: 0.8056\n",
            "Epoch 55/80\n",
            "804/804 [==============================] - 1s 2ms/step - loss: 0.4123 - accuracy: 0.8056\n",
            "Epoch 56/80\n",
            "804/804 [==============================] - 1s 2ms/step - loss: 0.4126 - accuracy: 0.8059\n",
            "Epoch 57/80\n",
            "804/804 [==============================] - 1s 2ms/step - loss: 0.4124 - accuracy: 0.8045\n",
            "Epoch 58/80\n",
            "804/804 [==============================] - 2s 2ms/step - loss: 0.4122 - accuracy: 0.8050\n",
            "Epoch 59/80\n",
            "804/804 [==============================] - 1s 2ms/step - loss: 0.4121 - accuracy: 0.8047\n",
            "Epoch 60/80\n",
            "804/804 [==============================] - 2s 3ms/step - loss: 0.4118 - accuracy: 0.8054\n",
            "Epoch 61/80\n",
            "804/804 [==============================] - 2s 2ms/step - loss: 0.4112 - accuracy: 0.8060\n",
            "Epoch 62/80\n",
            "804/804 [==============================] - 1s 2ms/step - loss: 0.4116 - accuracy: 0.8061\n",
            "Epoch 63/80\n",
            "804/804 [==============================] - 1s 2ms/step - loss: 0.4113 - accuracy: 0.8060\n",
            "Epoch 64/80\n",
            "804/804 [==============================] - 1s 2ms/step - loss: 0.4112 - accuracy: 0.8057\n",
            "Epoch 65/80\n",
            "804/804 [==============================] - 1s 2ms/step - loss: 0.4109 - accuracy: 0.8052\n",
            "Epoch 66/80\n",
            "804/804 [==============================] - 1s 2ms/step - loss: 0.4107 - accuracy: 0.8047\n",
            "Epoch 67/80\n",
            "804/804 [==============================] - 1s 2ms/step - loss: 0.4108 - accuracy: 0.8056\n",
            "Epoch 68/80\n",
            "804/804 [==============================] - 2s 3ms/step - loss: 0.4107 - accuracy: 0.8054\n",
            "Epoch 69/80\n",
            "804/804 [==============================] - 2s 2ms/step - loss: 0.4104 - accuracy: 0.8054\n",
            "Epoch 70/80\n",
            "804/804 [==============================] - 2s 2ms/step - loss: 0.4106 - accuracy: 0.8053\n",
            "Epoch 71/80\n",
            "804/804 [==============================] - 1s 2ms/step - loss: 0.4104 - accuracy: 0.8068\n",
            "Epoch 72/80\n",
            "804/804 [==============================] - 1s 2ms/step - loss: 0.4099 - accuracy: 0.8060\n",
            "Epoch 73/80\n",
            "804/804 [==============================] - 1s 2ms/step - loss: 0.4103 - accuracy: 0.8056\n",
            "Epoch 74/80\n",
            "804/804 [==============================] - 1s 2ms/step - loss: 0.4102 - accuracy: 0.8061\n",
            "Epoch 75/80\n",
            "804/804 [==============================] - 2s 2ms/step - loss: 0.4098 - accuracy: 0.8063\n",
            "Epoch 76/80\n",
            "804/804 [==============================] - 2s 3ms/step - loss: 0.4094 - accuracy: 0.8066\n",
            "Epoch 77/80\n",
            "804/804 [==============================] - 1s 2ms/step - loss: 0.4098 - accuracy: 0.8071\n",
            "Epoch 78/80\n",
            "804/804 [==============================] - 2s 2ms/step - loss: 0.4094 - accuracy: 0.8063\n",
            "Epoch 79/80\n",
            "804/804 [==============================] - 1s 2ms/step - loss: 0.4096 - accuracy: 0.8056\n",
            "Epoch 80/80\n",
            "804/804 [==============================] - 1s 2ms/step - loss: 0.4092 - accuracy: 0.8064\n"
          ]
        }
      ],
      "source": [
        "# Train the model\n",
        "\n",
        "fit_model = nn.fit(X_train_scaled, y_train, epochs=80)\n"
      ]
    },
    {
      "cell_type": "code",
      "execution_count": 33,
      "metadata": {
        "colab": {
          "base_uri": "https://localhost:8080/"
        },
        "id": "0Nvbvxwf--i7",
        "outputId": "7ad7c267-4b37-42ac-c4d5-00c58117c96f"
      },
      "outputs": [
        {
          "output_type": "stream",
          "name": "stdout",
          "text": [
            "268/268 - 0s - loss: 0.4545 - accuracy: 0.7894 - 452ms/epoch - 2ms/step\n",
            "Loss: 0.4544501006603241, Accuracy: 0.7893877625465393\n"
          ]
        }
      ],
      "source": [
        "# Evaluate the model using the test data\n",
        "model_loss, model_accuracy = nn.evaluate(X_test_scaled,y_test,verbose=2)\n",
        "print(f\"Loss: {model_loss}, Accuracy: {model_accuracy}\")"
      ]
    },
    {
      "cell_type": "code",
      "execution_count": 34,
      "metadata": {
        "id": "8gtGTSXN--i7"
      },
      "outputs": [],
      "source": [
        "# Export our model to HDF5 file\n",
        "\n",
        "nn.save_weights('my_model.hdf5')\n"
      ]
    }
  ],
  "metadata": {
    "kernelspec": {
      "display_name": "Python 3",
      "language": "python",
      "name": "python3"
    },
    "language_info": {
      "codemirror_mode": {
        "name": "ipython",
        "version": 3
      },
      "file_extension": ".py",
      "mimetype": "text/x-python",
      "name": "python",
      "nbconvert_exporter": "python",
      "pygments_lexer": "ipython3",
      "version": "3.-1.-1"
    },
    "vscode": {
      "interpreter": {
        "hash": "31f2aee4e71d21fbe5cf8b01ff0e069b9275f58929596ceb00d14d90e3e16cd6"
      }
    },
    "colab": {
      "provenance": [],
      "include_colab_link": true
    }
  },
  "nbformat": 4,
  "nbformat_minor": 0
}